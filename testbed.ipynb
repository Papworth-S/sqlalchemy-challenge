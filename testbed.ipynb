{
 "cells": [
  {
   "cell_type": "code",
   "execution_count": 2,
   "metadata": {},
   "outputs": [],
   "source": [
    "# Import the dependencies.\n",
    "import numpy as np\n",
    "import pandas as pd\n",
    "import datetime as dt\n",
    "\n",
    "# from matplotlib import style\n",
    "# style.use('fivethirtyeight')\n",
    "# import matplotlib.pyplot as plt\n",
    "\n",
    "import sqlalchemy\n",
    "from sqlalchemy.ext.automap import automap_base\n",
    "from sqlalchemy.orm import Session\n",
    "from sqlalchemy import create_engine, func\n",
    "\n",
    "from flask import Flask, jsonify"
   ]
  },
  {
   "cell_type": "code",
   "execution_count": 3,
   "metadata": {},
   "outputs": [],
   "source": [
    "# create engine to hawaii.sqlite\n",
    "engine = create_engine(\"sqlite:///Resources/hawaii.sqlite\")\n",
    "# reflect an existing database into a new model\n",
    "Base = automap_base()\n",
    "# reflect the tables\n",
    "Base.prepare(autoload_with=engine)\n",
    "# View all of the classes that automap found\n",
    "Base.classes.keys()\n",
    "# Save references to each table\n",
    "Measurements = Base.classes.measurement\n",
    "Stations = Base.classes.station\n",
    "# Create our session (link) from Python to the DB\n",
    "session = Session(bind=engine)\n"
   ]
  },
  {
   "cell_type": "code",
   "execution_count": 8,
   "metadata": {},
   "outputs": [
    {
     "name": "stdout",
     "output_type": "stream",
     "text": [
      "[{'ID:': 'USC00519397', 'Name:': 'WAIKIKI 717.2, HI US', 'Lat:': 21.2716, 'Long:': -157.8168, 'Elevation:': 3.0}, {'ID:': 'USC00513117', 'Name:': 'KANEOHE 838.1, HI US', 'Lat:': 21.4234, 'Long:': -157.8015, 'Elevation:': 14.6}, {'ID:': 'USC00514830', 'Name:': 'KUALOA RANCH HEADQUARTERS 886.9, HI US', 'Lat:': 21.5213, 'Long:': -157.8374, 'Elevation:': 7.0}, {'ID:': 'USC00517948', 'Name:': 'PEARL CITY, HI US', 'Lat:': 21.3934, 'Long:': -157.9751, 'Elevation:': 11.9}, {'ID:': 'USC00518838', 'Name:': 'UPPER WAHIAWA 874.3, HI US', 'Lat:': 21.4992, 'Long:': -158.0111, 'Elevation:': 306.6}, {'ID:': 'USC00519523', 'Name:': 'WAIMANALO EXPERIMENTAL FARM, HI US', 'Lat:': 21.33556, 'Long:': -157.71139, 'Elevation:': 19.5}, {'ID:': 'USC00519281', 'Name:': 'WAIHEE 837.5, HI US', 'Lat:': 21.45167, 'Long:': -157.84888999999998, 'Elevation:': 32.9}, {'ID:': 'USC00511918', 'Name:': 'HONOLULU OBSERVATORY 702.2, HI US', 'Lat:': 21.3152, 'Long:': -157.9992, 'Elevation:': 0.9}, {'ID:': 'USC00516128', 'Name:': 'MANOA LYON ARBO 785.2, HI US', 'Lat:': 21.3331, 'Long:': -157.8025, 'Elevation:': 152.4}]\n"
     ]
    }
   ],
   "source": [
    "#latitude,longitude,elevation\n",
    "wx_stations = session.query(Stations.station, Stations.name, Stations.latitude, Stations.longitude, Stations.elevation).all()\n",
    "all_stations = []\n",
    "for row in wx_stations:\n",
    "    wx_stations_dict = {}\n",
    "    wx_stations_dict[\"ID:\"] = row.station\n",
    "    wx_stations_dict[\"Name:\"] = row.name\n",
    "    wx_stations_dict[\"Lat:\"] = row.latitude\n",
    "    wx_stations_dict[\"Long:\"] = row.longitude\n",
    "    wx_stations_dict[\"Elevation:\"] = row.elevation\n",
    "    all_stations.append(wx_stations_dict)\n",
    "print(all_stations)"
   ]
  },
  {
   "cell_type": "code",
   "execution_count": 16,
   "metadata": {},
   "outputs": [
    {
     "name": "stdout",
     "output_type": "stream",
     "text": [
      "('USC00519397', 'WAIKIKI 717.2, HI US', 58.0, 87.0, 76.0)\n"
     ]
    }
   ],
   "source": [
    "start_date = \"2017-04-04\"\n",
    "min_max_avg = session.query(Stations.station, Stations.name,\\\n",
    "    func.min(Measurements.tobs), func.max(Measurements.tobs), func.round(func.avg(Measurements.tobs))).\\\n",
    "    filter(Measurements.station == Stations.station).filter(Measurements.date >= start_date).all()\n",
    "for row in min_max_avg:\n",
    "    print(row)\n",
    "# min_max_avg\n",
    "# all_stations_temps = []\n",
    "# for row in wx_stations:\n",
    "#     wx_stations_temp_dict = {}\n",
    "#     wx_stations_temp_dict[\"ID\"] = row.station\n",
    "#     wx_stations_temp_dict[\"Name\"] = row.name\n",
    "#     wx_stations_temp_dict[\"Min\"] = row.latitude\n",
    "#     wx_stations_temp_dict[\"Max\"] = row.longitude\n",
    "#     wx_stations_temp_dict[\"AVG\"] = row.elevation\n",
    "#     all_stations.append(wx_stations_dict)\n",
    "# print(all_stations_temps)\n"
   ]
  },
  {
   "cell_type": "code",
   "execution_count": 21,
   "metadata": {},
   "outputs": [
    {
     "name": "stdout",
     "output_type": "stream",
     "text": [
      "[('USC00511918', 'HONOLULU OBSERVATORY 702.2, HI US', 53.0, 86.0, 72.0), ('USC00513117', 'KANEOHE 838.1, HI US', 59.0, 85.0, 73.0), ('USC00514830', 'KUALOA RANCH HEADQUARTERS 886.9, HI US', 63.0, 85.0, 75.0), ('USC00516128', 'MANOA LYON ARBO 785.2, HI US', 58.0, 84.0, 71.0), ('USC00517948', 'PEARL CITY, HI US', 59.0, 87.0, 75.0), ('USC00518838', 'UPPER WAHIAWA 874.3, HI US', 58.0, 80.0, 74.0), ('USC00519281', 'WAIHEE 837.5, HI US', 54.0, 85.0, 72.0), ('USC00519397', 'WAIKIKI 717.2, HI US', 56.0, 87.0, 75.0), ('USC00519523', 'WAIMANALO EXPERIMENTAL FARM, HI US', 56.0, 85.0, 75.0)]\n"
     ]
    }
   ],
   "source": [
    "start_date = '2011-04-04'\n",
    "min_max_avg = session.query(Stations.station, Stations.name, func.min(Measurements.tobs), \\\n",
    "            func.max(Measurements.tobs), func.round(func.avg(Measurements.tobs))).group_by(Stations.station).\\\n",
    "            filter(Measurements.station == Stations.station).filter(Measurements.date >= start_date).all()\n",
    "\n",
    "station_list_temp = [(*result,) for result in min_max_avg]\n",
    "print(station_list_temp)"
   ]
  },
  {
   "cell_type": "code",
   "execution_count": 23,
   "metadata": {},
   "outputs": [
    {
     "name": "stdout",
     "output_type": "stream",
     "text": [
      "{'USC00511918': {'name': 'HONOLULU OBSERVATORY 702.2, HI US', 'min_temp': 53.0, 'max_temp': 86.0, 'avg_temp': 72.0}, 'USC00513117': {'name': 'KANEOHE 838.1, HI US', 'min_temp': 59.0, 'max_temp': 85.0, 'avg_temp': 73.0}, 'USC00514830': {'name': 'KUALOA RANCH HEADQUARTERS 886.9, HI US', 'min_temp': 63.0, 'max_temp': 85.0, 'avg_temp': 75.0}, 'USC00516128': {'name': 'MANOA LYON ARBO 785.2, HI US', 'min_temp': 58.0, 'max_temp': 84.0, 'avg_temp': 71.0}, 'USC00517948': {'name': 'PEARL CITY, HI US', 'min_temp': 59.0, 'max_temp': 87.0, 'avg_temp': 75.0}, 'USC00518838': {'name': 'UPPER WAHIAWA 874.3, HI US', 'min_temp': 58.0, 'max_temp': 80.0, 'avg_temp': 74.0}, 'USC00519281': {'name': 'WAIHEE 837.5, HI US', 'min_temp': 54.0, 'max_temp': 85.0, 'avg_temp': 72.0}, 'USC00519397': {'name': 'WAIKIKI 717.2, HI US', 'min_temp': 56.0, 'max_temp': 87.0, 'avg_temp': 75.0}, 'USC00519523': {'name': 'WAIMANALO EXPERIMENTAL FARM, HI US', 'min_temp': 56.0, 'max_temp': 85.0, 'avg_temp': 75.0}}\n"
     ]
    }
   ],
   "source": [
    "station_dict_temp = {result[0]: {\"name\": result[1], \"min_temp\": result[2], \"max_temp\": result[3],\\\n",
    "                         \"avg_temp\": result[4]} for result in min_max_avg}\n",
    "print(station_dict_temp)"
   ]
  },
  {
   "cell_type": "code",
   "execution_count": 25,
   "metadata": {},
   "outputs": [
    {
     "name": "stdout",
     "output_type": "stream",
     "text": [
      "{'USC00513117': {'name': 'KANEOHE 838.1, HI US', 'min_temp': 63.0, 'max_temp': 79.0, 'avg_temp': 75.0}, 'USC00514830': {'name': 'KUALOA RANCH HEADQUARTERS 886.9, HI US', 'min_temp': 69.0, 'max_temp': 83.0, 'avg_temp': 78.0}, 'USC00516128': {'name': 'MANOA LYON ARBO 785.2, HI US', 'min_temp': 60.0, 'max_temp': 81.0, 'avg_temp': 72.0}, 'USC00517948': {'name': 'PEARL CITY, HI US', 'min_temp': 64.0, 'max_temp': 82.0, 'avg_temp': 77.0}, 'USC00519281': {'name': 'WAIHEE 837.5, HI US', 'min_temp': 62.0, 'max_temp': 82.0, 'avg_temp': 75.0}, 'USC00519397': {'name': 'WAIKIKI 717.2, HI US', 'min_temp': 62.0, 'max_temp': 82.0, 'avg_temp': 77.0}, 'USC00519523': {'name': 'WAIMANALO EXPERIMENTAL FARM, HI US', 'min_temp': 63.0, 'max_temp': 84.0, 'avg_temp': 78.0}}\n"
     ]
    }
   ],
   "source": [
    "start = \"2016-04-04\"\n",
    "end = \"2016-12-22\"\n",
    "min_max_avg = session.query(Stations.station, Stations.name, func.min(Measurements.tobs), \\\n",
    "            func.max(Measurements.tobs), func.round(func.avg(Measurements.tobs))).group_by(Stations.station).\\\n",
    "            filter(Measurements.station == Stations.station).\\\n",
    "            filter(Measurements.date >= start).filter(Measurements.date <= end).all()\n",
    "station_dict_temp = {result[0]: {\"name\": result[1], \"min_temp\": result[2], \"max_temp\": result[3],\\\n",
    "                         \"avg_temp\": result[4]} for result in min_max_avg}\n",
    "print(station_dict_temp)"
   ]
  },
  {
   "cell_type": "code",
   "execution_count": 9,
   "metadata": {},
   "outputs": [],
   "source": [
    "# Close Session\n",
    "session.close()"
   ]
  }
 ],
 "metadata": {
  "kernelspec": {
   "display_name": "PythonData",
   "language": "python",
   "name": "python3"
  },
  "language_info": {
   "codemirror_mode": {
    "name": "ipython",
    "version": 3
   },
   "file_extension": ".py",
   "mimetype": "text/x-python",
   "name": "python",
   "nbconvert_exporter": "python",
   "pygments_lexer": "ipython3",
   "version": "3.10.9"
  },
  "orig_nbformat": 4
 },
 "nbformat": 4,
 "nbformat_minor": 2
}
